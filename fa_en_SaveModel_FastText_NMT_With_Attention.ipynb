{
  "nbformat": 4,
  "nbformat_minor": 0,
  "metadata": {
    "accelerator": "TPU",
    "colab": {
      "name": "fa-en:SaveModel:FastText: NMT_With_Attention.ipynb",
      "provenance": [],
      "collapsed_sections": [],
      "machine_shape": "hm"
    },
    "kernelspec": {
      "name": "python3",
      "display_name": "Python 3"
    }
  },
  "cells": [
    {
      "cell_type": "markdown",
      "metadata": {
        "id": "H3ReB4Zj8SRH",
        "colab_type": "text"
      },
      "source": [
        "Module Imports"
      ]
    },
    {
      "cell_type": "code",
      "metadata": {
        "colab_type": "code",
        "id": "tnxXKDjq3jEL",
        "outputId": "d332ccfd-4e0f-4882-9f4e-faa6053cfb08",
        "colab": {
          "base_uri": "https://localhost:8080/",
          "height": 35
        }
      },
      "source": [
        "from __future__ import absolute_import, division, print_function, unicode_literals\n",
        "\n",
        "try:\n",
        "  # %tensorflow_version only exists in Colab.\n",
        "  %tensorflow_version 2.x\n",
        "except Exception:\n",
        "  pass\n",
        "import tensorflow as tf\n",
        "\n",
        "import matplotlib.pyplot as plt\n",
        "import matplotlib.ticker as ticker\n",
        "from sklearn.model_selection import train_test_split\n",
        "\n",
        "import unicodedata\n",
        "import re\n",
        "import numpy as np\n",
        "import os\n",
        "import io\n",
        "import time"
      ],
      "execution_count": 0,
      "outputs": [
        {
          "output_type": "stream",
          "text": [
            "TensorFlow 2.x selected.\n"
          ],
          "name": "stdout"
        }
      ]
    },
    {
      "cell_type": "markdown",
      "metadata": {
        "id": "AijiDPVG8ji1",
        "colab_type": "text"
      },
      "source": [
        "Mounting The Drive."
      ]
    },
    {
      "cell_type": "code",
      "metadata": {
        "id": "GeTa-Mc3_1gs",
        "colab_type": "code",
        "colab": {}
      },
      "source": [
        "from pydrive.auth import GoogleAuth\n",
        "from pydrive.drive import GoogleDrive\n",
        "from google.colab import auth\n",
        "from oauth2client.client import GoogleCredentials"
      ],
      "execution_count": 0,
      "outputs": []
    },
    {
      "cell_type": "code",
      "metadata": {
        "id": "zWl03s7G_3i8",
        "colab_type": "code",
        "colab": {}
      },
      "source": [
        "auth.authenticate_user()\n",
        "gauth = GoogleAuth()\n",
        "gauth.credentials = GoogleCredentials.get_application_default()\n",
        "drive = GoogleDrive(gauth)"
      ],
      "execution_count": 0,
      "outputs": []
    },
    {
      "cell_type": "markdown",
      "metadata": {
        "id": "mEbB-2mL8m5s",
        "colab_type": "text"
      },
      "source": [
        "Downloading Fasttext Vectors"
      ]
    },
    {
      "cell_type": "code",
      "metadata": {
        "id": "cXq_QEQgrrpo",
        "colab_type": "code",
        "colab": {}
      },
      "source": [
        "#Fasttext Vectors\n",
        "downloaded = drive.CreateFile({'id':\"10o7HhaaEDKp_O68_FOwho3nrVx_xuhh5\"})   # replace the id with id of file you want to access\n",
        "downloaded.GetContentFile('cc.fa.300.vec.gz')        # replace the file name with your file"
      ],
      "execution_count": 0,
      "outputs": []
    },
    {
      "cell_type": "code",
      "metadata": {
        "id": "YQyatnnrrsld",
        "colab_type": "code",
        "colab": {}
      },
      "source": [
        "#Fasttext Vectors\n",
        "downloaded = drive.CreateFile({'id':\"1vQrV6RDI3e2tsHspMft6zM5DYvRK4wSD\"})   # replace the id with id of file you want to access\n",
        "downloaded.GetContentFile('cc.en.300.vec.gz')        # replace the file name with your file"
      ],
      "execution_count": 0,
      "outputs": []
    },
    {
      "cell_type": "code",
      "metadata": {
        "id": "2IzLyvfVr1Lc",
        "colab_type": "code",
        "colab": {}
      },
      "source": [
        "# importing required modules \n",
        "from zipfile import ZipFile \n",
        "  \n",
        "import gzip\n",
        "import shutil\n",
        "with gzip.open('cc.fa.300.vec.gz', 'rb') as f_in:\n",
        "    with open('file1.txt', 'wb') as f_out:\n",
        "        shutil.copyfileobj(f_in, f_out)"
      ],
      "execution_count": 0,
      "outputs": []
    },
    {
      "cell_type": "code",
      "metadata": {
        "id": "A7FaMTu0r28D",
        "colab_type": "code",
        "colab": {}
      },
      "source": [
        "# importing required modules \n",
        "from zipfile import ZipFile \n",
        "  \n",
        "import gzip\n",
        "import shutil\n",
        "with gzip.open('cc.en.300.vec.gz', 'rb') as f_in:\n",
        "    with open('file2.txt', 'wb') as f_out:\n",
        "        shutil.copyfileobj(f_in, f_out)"
      ],
      "execution_count": 0,
      "outputs": []
    },
    {
      "cell_type": "markdown",
      "metadata": {
        "id": "MzLN_a2W9QAV",
        "colab_type": "text"
      },
      "source": [
        "Create Embedding Index"
      ]
    },
    {
      "cell_type": "code",
      "metadata": {
        "id": "7CLVUWmEsA9I",
        "colab_type": "code",
        "outputId": "d58ab47a-e4cf-4f9e-aeb0-9d657856cfad",
        "colab": {
          "base_uri": "https://localhost:8080/",
          "height": 35
        }
      },
      "source": [
        "import numpy as np \n",
        "embeddings_index_fa = {}\n",
        "f = open('file1.txt')\n",
        "for line in f:\n",
        "    values = line.split()\n",
        "    word = values[0]\n",
        "    coefs = np.asarray(values[1:], dtype='float32')\n",
        "    embeddings_index_fa[word] = coefs\n",
        "f.close()\n",
        "\n",
        "print('Found %s word vectors.' % len(embeddings_index_fa))"
      ],
      "execution_count": 0,
      "outputs": [
        {
          "output_type": "stream",
          "text": [
            "Found 2000000 word vectors.\n"
          ],
          "name": "stdout"
        }
      ]
    },
    {
      "cell_type": "code",
      "metadata": {
        "id": "gCp8EnbYsCBw",
        "colab_type": "code",
        "outputId": "568b05e1-e367-4273-c046-3c2d4d392e15",
        "colab": {
          "base_uri": "https://localhost:8080/",
          "height": 35
        }
      },
      "source": [
        "import numpy as np \n",
        "embeddings_index_en = {}\n",
        "f = open('file2.txt')\n",
        "for line in f:\n",
        "    values = line.split()\n",
        "    word = values[0]\n",
        "    coefs = np.asarray(values[1:], dtype='float32')\n",
        "    embeddings_index_en[word] = coefs\n",
        "f.close()\n",
        "\n",
        "print('Found %s word vectors.' % len(embeddings_index_en))"
      ],
      "execution_count": 0,
      "outputs": [
        {
          "output_type": "stream",
          "text": [
            "Found 2000000 word vectors.\n"
          ],
          "name": "stdout"
        }
      ]
    },
    {
      "cell_type": "markdown",
      "metadata": {
        "id": "rcqOxxzC9WY4",
        "colab_type": "text"
      },
      "source": [
        "Downloading the Dataset"
      ]
    },
    {
      "cell_type": "code",
      "metadata": {
        "id": "njH9rwk4BB0z",
        "colab_type": "code",
        "colab": {}
      },
      "source": [
        "#Dataset\n",
        "downloaded = drive.CreateFile({'id':\"12wpQ2UBf6KolqO0yrWPArBf4hGmE65Ab\"})   # replace the id with id of file you want to access\n",
        "downloaded.GetContentFile('Persian Many Things.xlsx')        # replace the file name with your file"
      ],
      "execution_count": 0,
      "outputs": []
    },
    {
      "cell_type": "markdown",
      "metadata": {
        "id": "mf6T2vFA9YiH",
        "colab_type": "text"
      },
      "source": [
        "Preprocessing the Data"
      ]
    },
    {
      "cell_type": "code",
      "metadata": {
        "id": "hbz398S-AMte",
        "colab_type": "code",
        "colab": {}
      },
      "source": [
        "#Reading the Dataset\n",
        "import pandas as pd\n",
        "english_data = []\n",
        "persian_data = []\n",
        "\n",
        "df=pd.read_excel(r'Persian Many Things.xlsx')\n",
        "for i in range (df.shape[0]):\n",
        "  english_data.append(df.iloc[i,0])\n",
        "  persian_data.append(df.iloc[i,1])"
      ],
      "execution_count": 0,
      "outputs": []
    },
    {
      "cell_type": "code",
      "metadata": {
        "id": "_7977shCAhA4",
        "colab_type": "code",
        "colab": {}
      },
      "source": [
        "#Clean Persian \n",
        "import re\n",
        "def clean_fa(lines):\n",
        "  punctuation = '[!\"#$%&\\'()*+,-./:;<=>?@[\\\\]^_`{|}~،؟«؛«]+'\n",
        "  en_pattern = \"[a-zA-Z0-9]+\"\n",
        "  lines1=[]\n",
        "  for line in lines:\n",
        "    #create a space\n",
        "    line = re.sub(r\"([!\\\"#$%&\\'()*+,-./:;<=>?@[\\\\]^_`{|}~،؟«؛«'])\", r\" \\1 \", line)\n",
        "    line = re.sub(punctuation, ' ', line)\n",
        "    line = re.sub(r'[\" \"]+', \" \", line)\n",
        "    lines1.append(line)\n",
        "  return lines1"
      ],
      "execution_count": 0,
      "outputs": []
    },
    {
      "cell_type": "code",
      "metadata": {
        "colab_type": "code",
        "id": "rd0jw-eC3jEh",
        "colab": {}
      },
      "source": [
        "def unicode_to_ascii(s):\n",
        "  return ''.join(c for c in unicodedata.normalize('NFD', s)\n",
        "      if unicodedata.category(c) != 'Mn')\n",
        "  \n",
        "def clean_en(lines):\n",
        "  lines1 = []\n",
        "  for w in lines :\n",
        "    w = unicode_to_ascii(w.lower().strip())\n",
        "    w = re.sub(r\"([?.!,¿])\", r\" \\1 \", w)\n",
        "    w = re.sub(r'[\" \"]+', \" \", w)\n",
        "    w = re.sub(r\"[^a-zA-Z]+\", \" \", w)\n",
        "    w = w.rstrip().strip()\n",
        "    lines1.append(w)\n",
        "  return lines1"
      ],
      "execution_count": 0,
      "outputs": []
    },
    {
      "cell_type": "code",
      "metadata": {
        "id": "aMBh_10npIKz",
        "colab_type": "code",
        "outputId": "b52da8b3-53e5-4f4b-cf35-d98e27a0e56f",
        "colab": {
          "base_uri": "https://localhost:8080/",
          "height": 426
        }
      },
      "source": [
        "pip install hazm"
      ],
      "execution_count": 0,
      "outputs": [
        {
          "output_type": "stream",
          "text": [
            "Collecting hazm\n",
            "\u001b[?25l  Downloading https://files.pythonhosted.org/packages/22/13/5a7074bc11d20dbbb46239349ac3f85f7edc148b4cf68e9b8c2f8263830c/hazm-0.7.0-py3-none-any.whl (316kB)\n",
            "\r\u001b[K     |█                               | 10kB 17.4MB/s eta 0:00:01\r\u001b[K     |██                              | 20kB 2.2MB/s eta 0:00:01\r\u001b[K     |███                             | 30kB 3.2MB/s eta 0:00:01\r\u001b[K     |████▏                           | 40kB 2.1MB/s eta 0:00:01\r\u001b[K     |█████▏                          | 51kB 2.6MB/s eta 0:00:01\r\u001b[K     |██████▏                         | 61kB 3.1MB/s eta 0:00:01\r\u001b[K     |███████▎                        | 71kB 3.6MB/s eta 0:00:01\r\u001b[K     |████████▎                       | 81kB 2.8MB/s eta 0:00:01\r\u001b[K     |█████████▎                      | 92kB 3.1MB/s eta 0:00:01\r\u001b[K     |██████████▍                     | 102kB 3.4MB/s eta 0:00:01\r\u001b[K     |███████████▍                    | 112kB 3.4MB/s eta 0:00:01\r\u001b[K     |████████████▍                   | 122kB 3.4MB/s eta 0:00:01\r\u001b[K     |█████████████▌                  | 133kB 3.4MB/s eta 0:00:01\r\u001b[K     |██████████████▌                 | 143kB 3.4MB/s eta 0:00:01\r\u001b[K     |███████████████▌                | 153kB 3.4MB/s eta 0:00:01\r\u001b[K     |████████████████▋               | 163kB 3.4MB/s eta 0:00:01\r\u001b[K     |█████████████████▋              | 174kB 3.4MB/s eta 0:00:01\r\u001b[K     |██████████████████▋             | 184kB 3.4MB/s eta 0:00:01\r\u001b[K     |███████████████████▋            | 194kB 3.4MB/s eta 0:00:01\r\u001b[K     |████████████████████▊           | 204kB 3.4MB/s eta 0:00:01\r\u001b[K     |█████████████████████▊          | 215kB 3.4MB/s eta 0:00:01\r\u001b[K     |██████████████████████▊         | 225kB 3.4MB/s eta 0:00:01\r\u001b[K     |███████████████████████▉        | 235kB 3.4MB/s eta 0:00:01\r\u001b[K     |████████████████████████▉       | 245kB 3.4MB/s eta 0:00:01\r\u001b[K     |█████████████████████████▉      | 256kB 3.4MB/s eta 0:00:01\r\u001b[K     |███████████████████████████     | 266kB 3.4MB/s eta 0:00:01\r\u001b[K     |████████████████████████████    | 276kB 3.4MB/s eta 0:00:01\r\u001b[K     |█████████████████████████████   | 286kB 3.4MB/s eta 0:00:01\r\u001b[K     |██████████████████████████████  | 296kB 3.4MB/s eta 0:00:01\r\u001b[K     |███████████████████████████████ | 307kB 3.4MB/s eta 0:00:01\r\u001b[K     |████████████████████████████████| 317kB 3.4MB/s \n",
            "\u001b[?25hCollecting nltk==3.3\n",
            "\u001b[?25l  Downloading https://files.pythonhosted.org/packages/50/09/3b1755d528ad9156ee7243d52aa5cd2b809ef053a0f31b53d92853dd653a/nltk-3.3.0.zip (1.4MB)\n",
            "\r\u001b[K     |▎                               | 10kB 26.9MB/s eta 0:00:01\r\u001b[K     |▌                               | 20kB 34.9MB/s eta 0:00:01\r\u001b[K     |▊                               | 30kB 42.4MB/s eta 0:00:01\r\u001b[K     |█                               | 40kB 47.6MB/s eta 0:00:01\r\u001b[K     |█▏                              | 51kB 51.2MB/s eta 0:00:01\r\u001b[K     |█▍                              | 61kB 54.4MB/s eta 0:00:01\r\u001b[K     |█▋                              | 71kB 56.5MB/s eta 0:00:01\r\u001b[K     |█▉                              | 81kB 58.3MB/s eta 0:00:01\r\u001b[K     |██▏                             | 92kB 61.1MB/s eta 0:00:01\r\u001b[K     |██▍                             | 102kB 62.9MB/s eta 0:00:01\r\u001b[K     |██▋                             | 112kB 62.9MB/s eta 0:00:01\r\u001b[K     |██▉                             | 122kB 62.9MB/s eta 0:00:01\r\u001b[K     |███                             | 133kB 62.9MB/s eta 0:00:01\r\u001b[K     |███▎                            | 143kB 62.9MB/s eta 0:00:01\r\u001b[K     |███▌                            | 153kB 62.9MB/s eta 0:00:01\r\u001b[K     |███▊                            | 163kB 62.9MB/s eta 0:00:01\r\u001b[K     |████                            | 174kB 62.9MB/s eta 0:00:01\r\u001b[K     |████▎                           | 184kB 62.9MB/s eta 0:00:01\r\u001b[K     |████▌                           | 194kB 62.9MB/s eta 0:00:01\r\u001b[K     |████▊                           | 204kB 62.9MB/s eta 0:00:01\r\u001b[K     |█████                           | 215kB 62.9MB/s eta 0:00:01\r\u001b[K     |█████▏                          | 225kB 62.9MB/s eta 0:00:01\r\u001b[K     |█████▍                          | 235kB 62.9MB/s eta 0:00:01\r\u001b[K     |█████▋                          | 245kB 62.9MB/s eta 0:00:01\r\u001b[K     |██████                          | 256kB 62.9MB/s eta 0:00:01\r\u001b[K     |██████▏                         | 266kB 62.9MB/s eta 0:00:01\r\u001b[K     |██████▍                         | 276kB 62.9MB/s eta 0:00:01\r\u001b[K     |██████▋                         | 286kB 62.9MB/s eta 0:00:01\r\u001b[K     |██████▉                         | 296kB 62.9MB/s eta 0:00:01\r\u001b[K     |███████                         | 307kB 62.9MB/s eta 0:00:01\r\u001b[K     |███████▎                        | 317kB 62.9MB/s eta 0:00:01\r\u001b[K     |███████▌                        | 327kB 62.9MB/s eta 0:00:01\r\u001b[K     |███████▊                        | 337kB 62.9MB/s eta 0:00:01\r\u001b[K     |████████                        | 348kB 62.9MB/s eta 0:00:01\r\u001b[K     |████████▎                       | 358kB 62.9MB/s eta 0:00:01\r\u001b[K     |████████▌                       | 368kB 62.9MB/s eta 0:00:01\r\u001b[K     |████████▊                       | 378kB 62.9MB/s eta 0:00:01\r\u001b[K     |█████████                       | 389kB 62.9MB/s eta 0:00:01\r\u001b[K     |█████████▏                      | 399kB 62.9MB/s eta 0:00:01\r\u001b[K     |█████████▍                      | 409kB 62.9MB/s eta 0:00:01\r\u001b[K     |█████████▋                      | 419kB 62.9MB/s eta 0:00:01\r\u001b[K     |██████████                      | 430kB 62.9MB/s eta 0:00:01\r\u001b[K     |██████████▏                     | 440kB 62.9MB/s eta 0:00:01\r\u001b[K     |██████████▍                     | 450kB 62.9MB/s eta 0:00:01\r\u001b[K     |██████████▋                     | 460kB 62.9MB/s eta 0:00:01\r\u001b[K     |██████████▉                     | 471kB 62.9MB/s eta 0:00:01\r\u001b[K     |███████████                     | 481kB 62.9MB/s eta 0:00:01\r\u001b[K     |███████████▎                    | 491kB 62.9MB/s eta 0:00:01\r\u001b[K     |███████████▌                    | 501kB 62.9MB/s eta 0:00:01\r\u001b[K     |███████████▉                    | 512kB 62.9MB/s eta 0:00:01\r\u001b[K     |████████████                    | 522kB 62.9MB/s eta 0:00:01\r\u001b[K     |████████████▎                   | 532kB 62.9MB/s eta 0:00:01\r\u001b[K     |████████████▌                   | 542kB 62.9MB/s eta 0:00:01\r\u001b[K     |████████████▊                   | 552kB 62.9MB/s eta 0:00:01\r\u001b[K     |█████████████                   | 563kB 62.9MB/s eta 0:00:01\r\u001b[K     |█████████████▏                  | 573kB 62.9MB/s eta 0:00:01\r\u001b[K     |█████████████▍                  | 583kB 62.9MB/s eta 0:00:01\r\u001b[K     |█████████████▊                  | 593kB 62.9MB/s eta 0:00:01\r\u001b[K     |██████████████                  | 604kB 62.9MB/s eta 0:00:01\r\u001b[K     |██████████████▏                 | 614kB 62.9MB/s eta 0:00:01\r\u001b[K     |██████████████▍                 | 624kB 62.9MB/s eta 0:00:01\r\u001b[K     |██████████████▋                 | 634kB 62.9MB/s eta 0:00:01\r\u001b[K     |██████████████▉                 | 645kB 62.9MB/s eta 0:00:01\r\u001b[K     |███████████████                 | 655kB 62.9MB/s eta 0:00:01\r\u001b[K     |███████████████▎                | 665kB 62.9MB/s eta 0:00:01\r\u001b[K     |███████████████▌                | 675kB 62.9MB/s eta 0:00:01\r\u001b[K     |███████████████▉                | 686kB 62.9MB/s eta 0:00:01\r\u001b[K     |████████████████                | 696kB 62.9MB/s eta 0:00:01\r\u001b[K     |████████████████▎               | 706kB 62.9MB/s eta 0:00:01\r\u001b[K     |████████████████▌               | 716kB 62.9MB/s eta 0:00:01\r\u001b[K     |████████████████▊               | 727kB 62.9MB/s eta 0:00:01\r\u001b[K     |█████████████████               | 737kB 62.9MB/s eta 0:00:01\r\u001b[K     |█████████████████▏              | 747kB 62.9MB/s eta 0:00:01\r\u001b[K     |█████████████████▍              | 757kB 62.9MB/s eta 0:00:01\r\u001b[K     |█████████████████▊              | 768kB 62.9MB/s eta 0:00:01\r\u001b[K     |██████████████████              | 778kB 62.9MB/s eta 0:00:01\r\u001b[K     |██████████████████▏             | 788kB 62.9MB/s eta 0:00:01\r\u001b[K     |██████████████████▍             | 798kB 62.9MB/s eta 0:00:01\r\u001b[K     |██████████████████▋             | 808kB 62.9MB/s eta 0:00:01\r\u001b[K     |██████████████████▉             | 819kB 62.9MB/s eta 0:00:01\r\u001b[K     |███████████████████             | 829kB 62.9MB/s eta 0:00:01\r\u001b[K     |███████████████████▎            | 839kB 62.9MB/s eta 0:00:01\r\u001b[K     |███████████████████▋            | 849kB 62.9MB/s eta 0:00:01\r\u001b[K     |███████████████████▉            | 860kB 62.9MB/s eta 0:00:01\r\u001b[K     |████████████████████            | 870kB 62.9MB/s eta 0:00:01\r\u001b[K     |████████████████████▎           | 880kB 62.9MB/s eta 0:00:01\r\u001b[K     |████████████████████▌           | 890kB 62.9MB/s eta 0:00:01\r\u001b[K     |████████████████████▊           | 901kB 62.9MB/s eta 0:00:01\r\u001b[K     |█████████████████████           | 911kB 62.9MB/s eta 0:00:01\r\u001b[K     |█████████████████████▏          | 921kB 62.9MB/s eta 0:00:01\r\u001b[K     |█████████████████████▌          | 931kB 62.9MB/s eta 0:00:01\r\u001b[K     |█████████████████████▊          | 942kB 62.9MB/s eta 0:00:01\r\u001b[K     |██████████████████████          | 952kB 62.9MB/s eta 0:00:01\r\u001b[K     |██████████████████████▏         | 962kB 62.9MB/s eta 0:00:01\r\u001b[K     |██████████████████████▍         | 972kB 62.9MB/s eta 0:00:01\r\u001b[K     |██████████████████████▋         | 983kB 62.9MB/s eta 0:00:01\r\u001b[K     |██████████████████████▉         | 993kB 62.9MB/s eta 0:00:01\r\u001b[K     |███████████████████████         | 1.0MB 62.9MB/s eta 0:00:01\r\u001b[K     |███████████████████████▎        | 1.0MB 62.9MB/s eta 0:00:01\r\u001b[K     |███████████████████████▋        | 1.0MB 62.9MB/s eta 0:00:01\r\u001b[K     |███████████████████████▉        | 1.0MB 62.9MB/s eta 0:00:01\r\u001b[K     |████████████████████████        | 1.0MB 62.9MB/s eta 0:00:01\r\u001b[K     |████████████████████████▎       | 1.1MB 62.9MB/s eta 0:00:01\r\u001b[K     |████████████████████████▌       | 1.1MB 62.9MB/s eta 0:00:01\r\u001b[K     |████████████████████████▊       | 1.1MB 62.9MB/s eta 0:00:01\r\u001b[K     |█████████████████████████       | 1.1MB 62.9MB/s eta 0:00:01\r\u001b[K     |█████████████████████████▏      | 1.1MB 62.9MB/s eta 0:00:01\r\u001b[K     |█████████████████████████▌      | 1.1MB 62.9MB/s eta 0:00:01\r\u001b[K     |█████████████████████████▊      | 1.1MB 62.9MB/s eta 0:00:01\r\u001b[K     |██████████████████████████      | 1.1MB 62.9MB/s eta 0:00:01\r\u001b[K     |██████████████████████████▏     | 1.1MB 62.9MB/s eta 0:00:01\r\u001b[K     |██████████████████████████▍     | 1.1MB 62.9MB/s eta 0:00:01\r\u001b[K     |██████████████████████████▋     | 1.2MB 62.9MB/s eta 0:00:01\r\u001b[K     |██████████████████████████▉     | 1.2MB 62.9MB/s eta 0:00:01\r\u001b[K     |███████████████████████████     | 1.2MB 62.9MB/s eta 0:00:01\r\u001b[K     |███████████████████████████▍    | 1.2MB 62.9MB/s eta 0:00:01\r\u001b[K     |███████████████████████████▋    | 1.2MB 62.9MB/s eta 0:00:01\r\u001b[K     |███████████████████████████▉    | 1.2MB 62.9MB/s eta 0:00:01\r\u001b[K     |████████████████████████████    | 1.2MB 62.9MB/s eta 0:00:01\r\u001b[K     |████████████████████████████▎   | 1.2MB 62.9MB/s eta 0:00:01\r\u001b[K     |████████████████████████████▌   | 1.2MB 62.9MB/s eta 0:00:01\r\u001b[K     |████████████████████████████▊   | 1.2MB 62.9MB/s eta 0:00:01\r\u001b[K     |█████████████████████████████   | 1.3MB 62.9MB/s eta 0:00:01\r\u001b[K     |█████████████████████████████▎  | 1.3MB 62.9MB/s eta 0:00:01\r\u001b[K     |█████████████████████████████▌  | 1.3MB 62.9MB/s eta 0:00:01\r\u001b[K     |█████████████████████████████▊  | 1.3MB 62.9MB/s eta 0:00:01\r\u001b[K     |██████████████████████████████  | 1.3MB 62.9MB/s eta 0:00:01\r\u001b[K     |██████████████████████████████▏ | 1.3MB 62.9MB/s eta 0:00:01\r\u001b[K     |██████████████████████████████▍ | 1.3MB 62.9MB/s eta 0:00:01\r\u001b[K     |██████████████████████████████▋ | 1.3MB 62.9MB/s eta 0:00:01\r\u001b[K     |██████████████████████████████▉ | 1.3MB 62.9MB/s eta 0:00:01\r\u001b[K     |███████████████████████████████ | 1.4MB 62.9MB/s eta 0:00:01\r\u001b[K     |███████████████████████████████▍| 1.4MB 62.9MB/s eta 0:00:01\r\u001b[K     |███████████████████████████████▋| 1.4MB 62.9MB/s eta 0:00:01\r\u001b[K     |███████████████████████████████▉| 1.4MB 62.9MB/s eta 0:00:01\r\u001b[K     |████████████████████████████████| 1.4MB 62.9MB/s \n",
            "\u001b[?25hCollecting libwapiti>=0.2.1; platform_system != \"Windows\"\n",
            "\u001b[?25l  Downloading https://files.pythonhosted.org/packages/bc/0f/1c9b49bb49821b5856a64ea6fac8d96a619b9f291d1f06999ea98a32c89c/libwapiti-0.2.1.tar.gz (233kB)\n",
            "\r\u001b[K     |█▍                              | 10kB 18.5MB/s eta 0:00:01\r\u001b[K     |██▉                             | 20kB 25.8MB/s eta 0:00:01\r\u001b[K     |████▏                           | 30kB 32.8MB/s eta 0:00:01\r\u001b[K     |█████▋                          | 40kB 38.1MB/s eta 0:00:01\r\u001b[K     |███████                         | 51kB 42.1MB/s eta 0:00:01\r\u001b[K     |████████▍                       | 61kB 46.1MB/s eta 0:00:01\r\u001b[K     |█████████▉                      | 71kB 48.6MB/s eta 0:00:01\r\u001b[K     |███████████▏                    | 81kB 50.4MB/s eta 0:00:01\r\u001b[K     |████████████▋                   | 92kB 30kB/s eta 0:00:05\r\u001b[K     |██████████████                  | 102kB 34kB/s eta 0:00:04\r\u001b[K     |███████████████▍                | 112kB 34kB/s eta 0:00:04\r\u001b[K     |████████████████▉               | 122kB 34kB/s eta 0:00:04\r\u001b[K     |██████████████████▎             | 133kB 34kB/s eta 0:00:03\r\u001b[K     |███████████████████▋            | 143kB 34kB/s eta 0:00:03\r\u001b[K     |█████████████████████           | 153kB 34kB/s eta 0:00:03\r\u001b[K     |██████████████████████▍         | 163kB 34kB/s eta 0:00:03\r\u001b[K     |███████████████████████▉        | 174kB 34kB/s eta 0:00:02\r\u001b[K     |█████████████████████████▎      | 184kB 34kB/s eta 0:00:02\r\u001b[K     |██████████████████████████▋     | 194kB 34kB/s eta 0:00:02\r\u001b[K     |████████████████████████████    | 204kB 34kB/s eta 0:00:01\r\u001b[K     |█████████████████████████████▌  | 215kB 34kB/s eta 0:00:01\r\u001b[K     |██████████████████████████████▉ | 225kB 34kB/s eta 0:00:01\r\u001b[K     |████████████████████████████████| 235kB 34kB/s \n",
            "\u001b[?25hRequirement already satisfied: six in /tensorflow-2.1.0/python3.6 (from nltk==3.3->hazm) (1.13.0)\n",
            "Building wheels for collected packages: nltk, libwapiti\n",
            "  Building wheel for nltk (setup.py) ... \u001b[?25l\u001b[?25hdone\n",
            "  Created wheel for nltk: filename=nltk-3.3-cp36-none-any.whl size=1394473 sha256=603825f500d9bc2766267cdb9083b0d3d69537d1ef9f28672ae982fdf3da8005\n",
            "  Stored in directory: /root/.cache/pip/wheels/d1/ab/40/3bceea46922767e42986aef7606a600538ca80de6062dc266c\n",
            "  Building wheel for libwapiti (setup.py) ... \u001b[?25l\u001b[?25hdone\n",
            "  Created wheel for libwapiti: filename=libwapiti-0.2.1-cp36-cp36m-linux_x86_64.whl size=154649 sha256=0f918881bcc1a158e7e436f880050611f354273e013b4b078bc67544428280fa\n",
            "  Stored in directory: /root/.cache/pip/wheels/66/15/54/4510dce8bb958b1cdd2c47425cbd1e1eecc0480ac9bb1fb9ab\n",
            "Successfully built nltk libwapiti\n",
            "Installing collected packages: nltk, libwapiti, hazm\n",
            "  Found existing installation: nltk 3.2.5\n",
            "    Uninstalling nltk-3.2.5:\n",
            "      Successfully uninstalled nltk-3.2.5\n",
            "Successfully installed hazm-0.7.0 libwapiti-0.2.1 nltk-3.3\n"
          ],
          "name": "stdout"
        }
      ]
    },
    {
      "cell_type": "code",
      "metadata": {
        "id": "DfQT8A7wpKh7",
        "colab_type": "code",
        "colab": {}
      },
      "source": [
        "from hazm import sent_tokenize, word_tokenize"
      ],
      "execution_count": 0,
      "outputs": []
    },
    {
      "cell_type": "code",
      "metadata": {
        "id": "tKSsq9D1UHkH",
        "colab_type": "code",
        "colab": {}
      },
      "source": [
        "totalX = []\n",
        "for i in range(len(persian_data)):\n",
        "  text=str(persian_data[i])\n",
        "  seg_list = word_tokenize(text)\n",
        "  text = \" \".join(seg_list)\n",
        "  totalX.append(text)"
      ],
      "execution_count": 0,
      "outputs": []
    },
    {
      "cell_type": "code",
      "metadata": {
        "id": "qlRnaTgUR17I",
        "colab_type": "code",
        "colab": {}
      },
      "source": [
        "en_clean=clean_en(english_data)\n",
        "fa_clean=clean_fa(totalX)\n",
        "english_clean=[]\n",
        "persian_clean=[]\n",
        "for i in range(len(en_clean)):#was en_clean\n",
        "  en_clean[i] = '<start> ' + str(en_clean[i]) + ' <end>'\n",
        "  fa_clean[i] = '<start> ' + str(fa_clean[i]) + ' <end>'\n",
        "  english_clean.append(en_clean[i])\n",
        "  persian_clean.append(fa_clean[i])"
      ],
      "execution_count": 0,
      "outputs": []
    },
    {
      "cell_type": "code",
      "metadata": {
        "id": "7JxpS11yVTlJ",
        "colab_type": "code",
        "colab": {}
      },
      "source": [
        "def convert_list(list):\n",
        "  return tuple(list)"
      ],
      "execution_count": 0,
      "outputs": []
    },
    {
      "cell_type": "code",
      "metadata": {
        "id": "C9PQAcq2VXi4",
        "colab_type": "code",
        "colab": {}
      },
      "source": [
        "en=convert_list(english_clean)\n",
        "fa=convert_list(persian_clean)"
      ],
      "execution_count": 0,
      "outputs": []
    },
    {
      "cell_type": "code",
      "metadata": {
        "colab_type": "code",
        "id": "OmMZQpdO60dt",
        "colab": {}
      },
      "source": [
        "def max_length(tensor):\n",
        "  return max(len(t) for t in tensor)"
      ],
      "execution_count": 0,
      "outputs": []
    },
    {
      "cell_type": "code",
      "metadata": {
        "colab_type": "code",
        "id": "bIOn8RCNDJXG",
        "colab": {}
      },
      "source": [
        "def tokenize(lang):\n",
        "  lang_tokenizer = tf.keras.preprocessing.text.Tokenizer(\n",
        "      filters='')\n",
        "  lang_tokenizer.fit_on_texts(lang)\n",
        "\n",
        "  tensor = lang_tokenizer.texts_to_sequences(lang)\n",
        "\n",
        "  tensor = tf.keras.preprocessing.sequence.pad_sequences(tensor,\n",
        "                                                         padding='post')\n",
        "\n",
        "  return tensor, lang_tokenizer"
      ],
      "execution_count": 0,
      "outputs": []
    },
    {
      "cell_type": "code",
      "metadata": {
        "colab_type": "code",
        "id": "eAY9k49G3jE_",
        "colab": {}
      },
      "source": [
        "def tensor_and_tokeniser(inp_lang, targ_lang):\n",
        "  # creating cleaned input, output pairs\n",
        "  input_tensor, inp_lang_tokenizer = tokenize(inp_lang)\n",
        "  target_tensor, targ_lang_tokenizer = tokenize(targ_lang)\n",
        "\n",
        "  return input_tensor, target_tensor, inp_lang_tokenizer, targ_lang_tokenizer"
      ],
      "execution_count": 0,
      "outputs": []
    },
    {
      "cell_type": "code",
      "metadata": {
        "colab_type": "code",
        "id": "cnxC7q-j3jFD",
        "colab": {}
      },
      "source": [
        "input_tensor, target_tensor, inp_lang, targ_lang = tensor_and_tokeniser(fa, en)\n",
        "\n",
        "# Calculate max_length of the target tensors\n",
        "max_length_targ, max_length_inp = max_length(target_tensor), max_length(input_tensor)"
      ],
      "execution_count": 0,
      "outputs": []
    },
    {
      "cell_type": "code",
      "metadata": {
        "colab_type": "code",
        "id": "4QILQkOs3jFG",
        "outputId": "9bef63a4-0dbb-4cd5-b3da-43da1dd892ab",
        "colab": {
          "base_uri": "https://localhost:8080/",
          "height": 35
        }
      },
      "source": [
        "# Creating training and validation sets using an 80-20 split\n",
        "input_tensor_train, input_tensor_val, target_tensor_train, target_tensor_val = train_test_split(input_tensor, target_tensor, test_size=0.2)\n",
        "\n",
        "# Show length\n",
        "print(len(input_tensor_train), len(target_tensor_train), len(input_tensor_val), len(target_tensor_val))"
      ],
      "execution_count": 0,
      "outputs": [
        {
          "output_type": "stream",
          "text": [
            "16963 16963 4241 4241\n"
          ],
          "name": "stdout"
        }
      ]
    },
    {
      "cell_type": "code",
      "metadata": {
        "colab_type": "code",
        "id": "lJPmLZGMeD5q",
        "colab": {}
      },
      "source": [
        "def convert(lang, tensor):\n",
        "  for t in tensor:\n",
        "    if t!=0:\n",
        "      print (\"%d ----> %s\" % (t, lang.index_word[t]))"
      ],
      "execution_count": 0,
      "outputs": []
    },
    {
      "cell_type": "markdown",
      "metadata": {
        "colab_type": "text",
        "id": "rgCLkfv5uO3d"
      },
      "source": [
        "Create a tf.data dataset"
      ]
    },
    {
      "cell_type": "code",
      "metadata": {
        "colab_type": "code",
        "id": "TqHsArVZ3jFS",
        "colab": {}
      },
      "source": [
        "BUFFER_SIZE = len(input_tensor_train)\n",
        "BATCH_SIZE = 85\n",
        "steps_per_epoch = len(input_tensor_train)//BATCH_SIZE\n",
        "embedding_dim = 300\n",
        "units = 1024\n",
        "vocab_inp_size = len(inp_lang.word_index)+1\n",
        "vocab_tar_size = len(targ_lang.word_index)+1\n",
        "\n",
        "dataset = tf.data.Dataset.from_tensor_slices((input_tensor_train, target_tensor_train)).shuffle(BUFFER_SIZE)\n",
        "dataset = dataset.batch(BATCH_SIZE, drop_remainder=True)"
      ],
      "execution_count": 0,
      "outputs": []
    },
    {
      "cell_type": "markdown",
      "metadata": {
        "id": "7dM4j7Tf_1SL",
        "colab_type": "text"
      },
      "source": [
        "Creating the Model Architecture"
      ]
    },
    {
      "cell_type": "code",
      "metadata": {
        "id": "_EzOC7Oqsb4S",
        "colab_type": "code",
        "colab": {}
      },
      "source": [
        "#creating input embedding matrix\n",
        "embedding_dim = 300\n",
        "embedding_matrix_fa = np.zeros((vocab_inp_size, embedding_dim))\n",
        "for word, i in inp_lang.word_index.items() :\n",
        "    embedding_vector = embeddings_index_fa.get(word)\n",
        "    if embedding_vector is not None:\n",
        "        # words not found in embedding index will be all-zeros.\n",
        "        embedding_matrix_fa[i] = embedding_vector"
      ],
      "execution_count": 0,
      "outputs": []
    },
    {
      "cell_type": "code",
      "metadata": {
        "colab_type": "code",
        "id": "nZ2rI24i3jFg",
        "colab": {}
      },
      "source": [
        "class Encoder(tf.keras.Model):\n",
        "  def __init__(self, vocab_size, embedding_dim, enc_units, batch_sz):\n",
        "    super(Encoder, self).__init__()\n",
        "    self.batch_sz = batch_sz\n",
        "    self.enc_units = enc_units\n",
        "    # self.embedding = tf.keras.layers.Embedding(vocab_size, embedding_dim)\n",
        "    self.embedding = tf.keras.layers.Embedding(vocab_size,\n",
        "                            embedding_dim,\n",
        "                            weights=[embedding_matrix_fa],\n",
        "                            input_length=None,\n",
        "                            trainable=False, mask_zero = True)\n",
        "    self.gru = tf.keras.layers.GRU(self.enc_units,\n",
        "                                   return_sequences=True,\n",
        "                                   return_state=True,\n",
        "                                   recurrent_initializer='glorot_uniform')\n",
        "\n",
        "  def call(self, x, hidden):\n",
        "    x = self.embedding(x)\n",
        "    output, state = self.gru(x, initial_state = hidden)\n",
        "    return output, state\n",
        "\n",
        "  def initialize_hidden_state(self):\n",
        "    return tf.zeros((self.batch_sz, self.enc_units))"
      ],
      "execution_count": 0,
      "outputs": []
    },
    {
      "cell_type": "code",
      "metadata": {
        "colab_type": "code",
        "id": "60gSVh05Jl6l",
        "colab": {}
      },
      "source": [
        "encoder = Encoder(vocab_inp_size, embedding_dim, units, BATCH_SIZE)"
      ],
      "execution_count": 0,
      "outputs": []
    },
    {
      "cell_type": "code",
      "metadata": {
        "colab_type": "code",
        "id": "umohpBN2OM94",
        "colab": {}
      },
      "source": [
        "class BahdanauAttention(tf.keras.layers.Layer):\n",
        "  def __init__(self, units):\n",
        "    super(BahdanauAttention, self).__init__()\n",
        "    self.W1 = tf.keras.layers.Dense(units)\n",
        "    self.W2 = tf.keras.layers.Dense(units)\n",
        "    self.V = tf.keras.layers.Dense(1)\n",
        "\n",
        "  def call(self, query, values):\n",
        "    # hidden shape == (batch_size, hidden size)\n",
        "    # hidden_with_time_axis shape == (batch_size, 1, hidden size)\n",
        "    # we are doing this to perform addition to calculate the score\n",
        "    hidden_with_time_axis = tf.expand_dims(query, 1)\n",
        "\n",
        "    # score shape == (batch_size, max_length, 1)\n",
        "    # we get 1 at the last axis because we are applying score to self.V\n",
        "    # the shape of the tensor before applying self.V is (batch_size, max_length, units)\n",
        "    score = self.V(tf.nn.tanh(\n",
        "        self.W1(values) + self.W2(hidden_with_time_axis)))\n",
        "\n",
        "    # attention_weights shape == (batch_size, max_length, 1)\n",
        "    attention_weights = tf.nn.softmax(score, axis=1)\n",
        "\n",
        "    # context_vector shape after sum == (batch_size, hidden_size)\n",
        "    context_vector = attention_weights * values\n",
        "    context_vector = tf.reduce_sum(context_vector, axis=1)\n",
        "\n",
        "    return context_vector, attention_weights"
      ],
      "execution_count": 0,
      "outputs": []
    },
    {
      "cell_type": "code",
      "metadata": {
        "colab_type": "code",
        "id": "k534zTHiDjQU",
        "colab": {}
      },
      "source": [
        "attention_layer = BahdanauAttention(10)"
      ],
      "execution_count": 0,
      "outputs": []
    },
    {
      "cell_type": "code",
      "metadata": {
        "id": "MiblPZ4juMJO",
        "colab_type": "code",
        "colab": {}
      },
      "source": [
        "#creating output embedding matrix \n",
        "embedding_matrix_en = np.zeros((vocab_tar_size, embedding_dim))\n",
        "for word, i in targ_lang.word_index.items() :\n",
        "    embedding_vector = embeddings_index_en.get(word)\n",
        "    if embedding_vector is not None:\n",
        "        # words not found in embedding index will be all-zeros.\n",
        "        embedding_matrix_en[i] = embedding_vector"
      ],
      "execution_count": 0,
      "outputs": []
    },
    {
      "cell_type": "code",
      "metadata": {
        "colab_type": "code",
        "id": "yJ_B3mhW3jFk",
        "colab": {}
      },
      "source": [
        "class Decoder(tf.keras.Model):\n",
        "  def __init__(self, vocab_size, embedding_dim, dec_units, batch_sz):\n",
        "    super(Decoder, self).__init__()\n",
        "    self.batch_sz = batch_sz\n",
        "    self.dec_units = dec_units\n",
        "    # self.embedding = tf.keras.layers.Embedding(vocab_size, embedding_dim)\n",
        "    self.embedding = tf.keras.layers.Embedding(vocab_size,\n",
        "                            embedding_dim,\n",
        "                            weights=[embedding_matrix_en],\n",
        "                            input_length=None,\n",
        "                            trainable=False, mask_zero = True)\n",
        "    self.gru = tf.keras.layers.GRU(self.dec_units,\n",
        "                                   return_sequences=True,\n",
        "                                   return_state=True,\n",
        "                                   recurrent_initializer='glorot_uniform')\n",
        "    self.fc = tf.keras.layers.Dense(vocab_size)\n",
        "\n",
        "    # used for attention\n",
        "    self.attention = BahdanauAttention(self.dec_units)\n",
        "\n",
        "  def call(self, x, hidden, enc_output):\n",
        "    # enc_output shape == (batch_size, max_length, hidden_size)\n",
        "    context_vector, attention_weights = self.attention(hidden, enc_output)\n",
        "\n",
        "    # x shape after passing through embedding == (batch_size, 1, embedding_dim)\n",
        "    x = self.embedding(x)\n",
        "\n",
        "    # x shape after concatenation == (batch_size, 1, embedding_dim + hidden_size)\n",
        "    x = tf.concat([tf.expand_dims(context_vector, 1), x], axis=-1)\n",
        "\n",
        "    # passing the concatenated vector to the GRU\n",
        "    output, state = self.gru(x)\n",
        "\n",
        "    # output shape == (batch_size * 1, hidden_size)\n",
        "    output = tf.reshape(output, (-1, output.shape[2]))\n",
        "\n",
        "    # output shape == (batch_size, vocab)\n",
        "    x = self.fc(output)\n",
        "\n",
        "    return x, state, attention_weights"
      ],
      "execution_count": 0,
      "outputs": []
    },
    {
      "cell_type": "code",
      "metadata": {
        "colab_type": "code",
        "id": "P5UY8wko3jFp",
        "colab": {}
      },
      "source": [
        "decoder = Decoder(vocab_tar_size, embedding_dim, units, BATCH_SIZE)"
      ],
      "execution_count": 0,
      "outputs": []
    },
    {
      "cell_type": "markdown",
      "metadata": {
        "colab_type": "text",
        "id": "_ch_71VbIRfK"
      },
      "source": [
        "Optimizer and the Loss function"
      ]
    },
    {
      "cell_type": "code",
      "metadata": {
        "colab_type": "code",
        "id": "WmTHr5iV3jFr",
        "colab": {}
      },
      "source": [
        "optimizer = tf.keras.optimizers.Adam()\n",
        "loss_object = tf.keras.losses.SparseCategoricalCrossentropy(\n",
        "    from_logits=True, reduction='none')\n",
        "\n",
        "def loss_function(real, pred):\n",
        "  mask = tf.math.logical_not(tf.math.equal(real, 0))\n",
        "  loss_ = loss_object(real, pred)\n",
        "\n",
        "  mask = tf.cast(mask, dtype=loss_.dtype)\n",
        "  loss_ *= mask\n",
        "\n",
        "  return tf.reduce_mean(loss_)"
      ],
      "execution_count": 0,
      "outputs": []
    },
    {
      "cell_type": "markdown",
      "metadata": {
        "id": "bvpzTTm6AKkF",
        "colab_type": "text"
      },
      "source": [
        "Checkpoints (Object-based saving)"
      ]
    },
    {
      "cell_type": "code",
      "metadata": {
        "colab_type": "code",
        "id": "Zj8bXQTgNwrF",
        "colab": {}
      },
      "source": [
        "checkpoint_dir = './training_checkpoints'\n",
        "checkpoint_prefix = os.path.join(checkpoint_dir, \"ckpt\")\n",
        "checkpoint = tf.train.Checkpoint(optimizer=optimizer,\n",
        "                                 encoder=encoder,\n",
        "                                 decoder=decoder)"
      ],
      "execution_count": 0,
      "outputs": []
    },
    {
      "cell_type": "markdown",
      "metadata": {
        "id": "ELGJI6jmAUc3",
        "colab_type": "text"
      },
      "source": [
        "Training"
      ]
    },
    {
      "cell_type": "code",
      "metadata": {
        "colab_type": "code",
        "id": "sC9ArXSsVfqn",
        "colab": {}
      },
      "source": [
        "@tf.function\n",
        "def train_step(inp, targ, enc_hidden):\n",
        "  loss = 0\n",
        "\n",
        "  with tf.GradientTape() as tape:\n",
        "    enc_output, enc_hidden = encoder(inp, enc_hidden)\n",
        "\n",
        "    dec_hidden = enc_hidden\n",
        "\n",
        "    dec_input = tf.expand_dims([targ_lang.word_index['<start>']] * BATCH_SIZE, 1)\n",
        "\n",
        "    # Teacher forcing - feeding the target as the next input\n",
        "    for t in range(1, targ.shape[1]):\n",
        "      # passing enc_output to the decoder\n",
        "      predictions, dec_hidden, _ = decoder(dec_input, dec_hidden, enc_output)\n",
        "\n",
        "      loss += loss_function(targ[:, t], predictions)\n",
        "\n",
        "      # using teacher forcing\n",
        "      dec_input = tf.expand_dims(targ[:, t], 1)\n",
        "\n",
        "  batch_loss = (loss / int(targ.shape[1]))\n",
        "\n",
        "  variables = encoder.trainable_variables + decoder.trainable_variables\n",
        "\n",
        "  gradients = tape.gradient(loss, variables)\n",
        "\n",
        "  optimizer.apply_gradients(zip(gradients, variables))\n",
        "\n",
        "  return batch_loss"
      ],
      "execution_count": 0,
      "outputs": []
    },
    {
      "cell_type": "code",
      "metadata": {
        "colab_type": "code",
        "id": "ddefjBMa3jF0",
        "outputId": "9a2d4665-9694-4438-f5cc-8f74bb8fe688",
        "colab": {
          "base_uri": "https://localhost:8080/",
          "height": 582
        }
      },
      "source": [
        "EPOCHS = 10\n",
        "\n",
        "for epoch in range(EPOCHS):\n",
        "  start = time.time()\n",
        "\n",
        "  enc_hidden = encoder.initialize_hidden_state()\n",
        "  total_loss = 0\n",
        "\n",
        "  for (batch, (inp, targ)) in enumerate(dataset.take(steps_per_epoch)):\n",
        "    batch_loss = train_step(inp, targ, enc_hidden)\n",
        "    total_loss += batch_loss\n",
        "\n",
        "    if batch % 100 == 0:\n",
        "      print('Epoch {} Batch {} Loss {:.4f}'.format(epoch + 1,\n",
        "                                                   batch,\n",
        "                                                   batch_loss.numpy()))\n",
        "  # saving (checkpoint) the model every 2 epochs\n",
        "  if (epoch + 1) % 1 == 0:\n",
        "    checkpoint.save(file_prefix = checkpoint_prefix)\n",
        "  \n",
        "  print('Epoch {} Loss {:.4f}'.format(epoch + 1,\n",
        "                                      total_loss / steps_per_epoch))\n",
        "  print('Time taken for 1 epoch {} sec\\n'.format(time.time() - start))"
      ],
      "execution_count": 0,
      "outputs": [
        {
          "output_type": "stream",
          "text": [
            "Epoch 1 Batch 0 Loss 0.2099\n",
            "Epoch 1 Batch 100 Loss 0.1953\n",
            "Epoch 1 Loss 0.2043\n",
            "Time taken for 1 epoch 382.5240201950073 sec\n",
            "\n",
            "Epoch 2 Batch 0 Loss 0.1628\n",
            "Epoch 2 Batch 100 Loss 0.1620\n",
            "Epoch 2 Loss 0.1662\n",
            "Time taken for 1 epoch 378.7786068916321 sec\n",
            "\n",
            "Epoch 3 Batch 0 Loss 0.1040\n"
          ],
          "name": "stdout"
        },
        {
          "output_type": "error",
          "ename": "KeyboardInterrupt",
          "evalue": "ignored",
          "traceback": [
            "\u001b[0;31m---------------------------------------------------------------------------\u001b[0m",
            "\u001b[0;31mKeyboardInterrupt\u001b[0m                         Traceback (most recent call last)",
            "\u001b[0;32m<ipython-input-63-edbf1c1365ed>\u001b[0m in \u001b[0;36m<module>\u001b[0;34m()\u001b[0m\n\u001b[1;32m      8\u001b[0m \u001b[0;34m\u001b[0m\u001b[0m\n\u001b[1;32m      9\u001b[0m   \u001b[0;32mfor\u001b[0m \u001b[0;34m(\u001b[0m\u001b[0mbatch\u001b[0m\u001b[0;34m,\u001b[0m \u001b[0;34m(\u001b[0m\u001b[0minp\u001b[0m\u001b[0;34m,\u001b[0m \u001b[0mtarg\u001b[0m\u001b[0;34m)\u001b[0m\u001b[0;34m)\u001b[0m \u001b[0;32min\u001b[0m \u001b[0menumerate\u001b[0m\u001b[0;34m(\u001b[0m\u001b[0mdataset\u001b[0m\u001b[0;34m.\u001b[0m\u001b[0mtake\u001b[0m\u001b[0;34m(\u001b[0m\u001b[0msteps_per_epoch\u001b[0m\u001b[0;34m)\u001b[0m\u001b[0;34m)\u001b[0m\u001b[0;34m:\u001b[0m\u001b[0;34m\u001b[0m\u001b[0;34m\u001b[0m\u001b[0m\n\u001b[0;32m---> 10\u001b[0;31m     \u001b[0mbatch_loss\u001b[0m \u001b[0;34m=\u001b[0m \u001b[0mtrain_step\u001b[0m\u001b[0;34m(\u001b[0m\u001b[0minp\u001b[0m\u001b[0;34m,\u001b[0m \u001b[0mtarg\u001b[0m\u001b[0;34m,\u001b[0m \u001b[0menc_hidden\u001b[0m\u001b[0;34m)\u001b[0m\u001b[0;34m\u001b[0m\u001b[0;34m\u001b[0m\u001b[0m\n\u001b[0m\u001b[1;32m     11\u001b[0m     \u001b[0mtotal_loss\u001b[0m \u001b[0;34m+=\u001b[0m \u001b[0mbatch_loss\u001b[0m\u001b[0;34m\u001b[0m\u001b[0;34m\u001b[0m\u001b[0m\n\u001b[1;32m     12\u001b[0m \u001b[0;34m\u001b[0m\u001b[0m\n",
            "\u001b[0;32m/tensorflow-2.1.0/python3.6/tensorflow_core/python/eager/def_function.py\u001b[0m in \u001b[0;36m__call__\u001b[0;34m(self, *args, **kwds)\u001b[0m\n\u001b[1;32m    566\u001b[0m         \u001b[0mxla_context\u001b[0m\u001b[0;34m.\u001b[0m\u001b[0mExit\u001b[0m\u001b[0;34m(\u001b[0m\u001b[0;34m)\u001b[0m\u001b[0;34m\u001b[0m\u001b[0;34m\u001b[0m\u001b[0m\n\u001b[1;32m    567\u001b[0m     \u001b[0;32melse\u001b[0m\u001b[0;34m:\u001b[0m\u001b[0;34m\u001b[0m\u001b[0;34m\u001b[0m\u001b[0m\n\u001b[0;32m--> 568\u001b[0;31m       \u001b[0mresult\u001b[0m \u001b[0;34m=\u001b[0m \u001b[0mself\u001b[0m\u001b[0;34m.\u001b[0m\u001b[0m_call\u001b[0m\u001b[0;34m(\u001b[0m\u001b[0;34m*\u001b[0m\u001b[0margs\u001b[0m\u001b[0;34m,\u001b[0m \u001b[0;34m**\u001b[0m\u001b[0mkwds\u001b[0m\u001b[0;34m)\u001b[0m\u001b[0;34m\u001b[0m\u001b[0;34m\u001b[0m\u001b[0m\n\u001b[0m\u001b[1;32m    569\u001b[0m \u001b[0;34m\u001b[0m\u001b[0m\n\u001b[1;32m    570\u001b[0m     \u001b[0;32mif\u001b[0m \u001b[0mtracing_count\u001b[0m \u001b[0;34m==\u001b[0m \u001b[0mself\u001b[0m\u001b[0;34m.\u001b[0m\u001b[0m_get_tracing_count\u001b[0m\u001b[0;34m(\u001b[0m\u001b[0;34m)\u001b[0m\u001b[0;34m:\u001b[0m\u001b[0;34m\u001b[0m\u001b[0;34m\u001b[0m\u001b[0m\n",
            "\u001b[0;32m/tensorflow-2.1.0/python3.6/tensorflow_core/python/eager/def_function.py\u001b[0m in \u001b[0;36m_call\u001b[0;34m(self, *args, **kwds)\u001b[0m\n\u001b[1;32m    597\u001b[0m       \u001b[0;31m# In this case we have created variables on the first call, so we run the\u001b[0m\u001b[0;34m\u001b[0m\u001b[0;34m\u001b[0m\u001b[0;34m\u001b[0m\u001b[0m\n\u001b[1;32m    598\u001b[0m       \u001b[0;31m# defunned version which is guaranteed to never create variables.\u001b[0m\u001b[0;34m\u001b[0m\u001b[0;34m\u001b[0m\u001b[0;34m\u001b[0m\u001b[0m\n\u001b[0;32m--> 599\u001b[0;31m       \u001b[0;32mreturn\u001b[0m \u001b[0mself\u001b[0m\u001b[0;34m.\u001b[0m\u001b[0m_stateless_fn\u001b[0m\u001b[0;34m(\u001b[0m\u001b[0;34m*\u001b[0m\u001b[0margs\u001b[0m\u001b[0;34m,\u001b[0m \u001b[0;34m**\u001b[0m\u001b[0mkwds\u001b[0m\u001b[0;34m)\u001b[0m  \u001b[0;31m# pylint: disable=not-callable\u001b[0m\u001b[0;34m\u001b[0m\u001b[0;34m\u001b[0m\u001b[0m\n\u001b[0m\u001b[1;32m    600\u001b[0m     \u001b[0;32melif\u001b[0m \u001b[0mself\u001b[0m\u001b[0;34m.\u001b[0m\u001b[0m_stateful_fn\u001b[0m \u001b[0;32mis\u001b[0m \u001b[0;32mnot\u001b[0m \u001b[0;32mNone\u001b[0m\u001b[0;34m:\u001b[0m\u001b[0;34m\u001b[0m\u001b[0;34m\u001b[0m\u001b[0m\n\u001b[1;32m    601\u001b[0m       \u001b[0;31m# Release the lock early so that multiple threads can perform the call\u001b[0m\u001b[0;34m\u001b[0m\u001b[0;34m\u001b[0m\u001b[0;34m\u001b[0m\u001b[0m\n",
            "\u001b[0;32m/tensorflow-2.1.0/python3.6/tensorflow_core/python/eager/function.py\u001b[0m in \u001b[0;36m__call__\u001b[0;34m(self, *args, **kwargs)\u001b[0m\n\u001b[1;32m   2361\u001b[0m     \u001b[0;32mwith\u001b[0m \u001b[0mself\u001b[0m\u001b[0;34m.\u001b[0m\u001b[0m_lock\u001b[0m\u001b[0;34m:\u001b[0m\u001b[0;34m\u001b[0m\u001b[0;34m\u001b[0m\u001b[0m\n\u001b[1;32m   2362\u001b[0m       \u001b[0mgraph_function\u001b[0m\u001b[0;34m,\u001b[0m \u001b[0margs\u001b[0m\u001b[0;34m,\u001b[0m \u001b[0mkwargs\u001b[0m \u001b[0;34m=\u001b[0m \u001b[0mself\u001b[0m\u001b[0;34m.\u001b[0m\u001b[0m_maybe_define_function\u001b[0m\u001b[0;34m(\u001b[0m\u001b[0margs\u001b[0m\u001b[0;34m,\u001b[0m \u001b[0mkwargs\u001b[0m\u001b[0;34m)\u001b[0m\u001b[0;34m\u001b[0m\u001b[0;34m\u001b[0m\u001b[0m\n\u001b[0;32m-> 2363\u001b[0;31m     \u001b[0;32mreturn\u001b[0m \u001b[0mgraph_function\u001b[0m\u001b[0;34m.\u001b[0m\u001b[0m_filtered_call\u001b[0m\u001b[0;34m(\u001b[0m\u001b[0margs\u001b[0m\u001b[0;34m,\u001b[0m \u001b[0mkwargs\u001b[0m\u001b[0;34m)\u001b[0m  \u001b[0;31m# pylint: disable=protected-access\u001b[0m\u001b[0;34m\u001b[0m\u001b[0;34m\u001b[0m\u001b[0m\n\u001b[0m\u001b[1;32m   2364\u001b[0m \u001b[0;34m\u001b[0m\u001b[0m\n\u001b[1;32m   2365\u001b[0m   \u001b[0;34m@\u001b[0m\u001b[0mproperty\u001b[0m\u001b[0;34m\u001b[0m\u001b[0;34m\u001b[0m\u001b[0m\n",
            "\u001b[0;32m/tensorflow-2.1.0/python3.6/tensorflow_core/python/eager/function.py\u001b[0m in \u001b[0;36m_filtered_call\u001b[0;34m(self, args, kwargs)\u001b[0m\n\u001b[1;32m   1609\u001b[0m          if isinstance(t, (ops.Tensor,\n\u001b[1;32m   1610\u001b[0m                            resource_variable_ops.BaseResourceVariable))),\n\u001b[0;32m-> 1611\u001b[0;31m         self.captured_inputs)\n\u001b[0m\u001b[1;32m   1612\u001b[0m \u001b[0;34m\u001b[0m\u001b[0m\n\u001b[1;32m   1613\u001b[0m   \u001b[0;32mdef\u001b[0m \u001b[0m_call_flat\u001b[0m\u001b[0;34m(\u001b[0m\u001b[0mself\u001b[0m\u001b[0;34m,\u001b[0m \u001b[0margs\u001b[0m\u001b[0;34m,\u001b[0m \u001b[0mcaptured_inputs\u001b[0m\u001b[0;34m,\u001b[0m \u001b[0mcancellation_manager\u001b[0m\u001b[0;34m=\u001b[0m\u001b[0;32mNone\u001b[0m\u001b[0;34m)\u001b[0m\u001b[0;34m:\u001b[0m\u001b[0;34m\u001b[0m\u001b[0;34m\u001b[0m\u001b[0m\n",
            "\u001b[0;32m/tensorflow-2.1.0/python3.6/tensorflow_core/python/eager/function.py\u001b[0m in \u001b[0;36m_call_flat\u001b[0;34m(self, args, captured_inputs, cancellation_manager)\u001b[0m\n\u001b[1;32m   1690\u001b[0m       \u001b[0;31m# No tape is watching; skip to running the function.\u001b[0m\u001b[0;34m\u001b[0m\u001b[0;34m\u001b[0m\u001b[0;34m\u001b[0m\u001b[0m\n\u001b[1;32m   1691\u001b[0m       return self._build_call_outputs(self._inference_function.call(\n\u001b[0;32m-> 1692\u001b[0;31m           ctx, args, cancellation_manager=cancellation_manager))\n\u001b[0m\u001b[1;32m   1693\u001b[0m     forward_backward = self._select_forward_and_backward_functions(\n\u001b[1;32m   1694\u001b[0m         \u001b[0margs\u001b[0m\u001b[0;34m,\u001b[0m\u001b[0;34m\u001b[0m\u001b[0;34m\u001b[0m\u001b[0m\n",
            "\u001b[0;32m/tensorflow-2.1.0/python3.6/tensorflow_core/python/eager/function.py\u001b[0m in \u001b[0;36mcall\u001b[0;34m(self, ctx, args, cancellation_manager)\u001b[0m\n\u001b[1;32m    543\u001b[0m               \u001b[0minputs\u001b[0m\u001b[0;34m=\u001b[0m\u001b[0margs\u001b[0m\u001b[0;34m,\u001b[0m\u001b[0;34m\u001b[0m\u001b[0;34m\u001b[0m\u001b[0m\n\u001b[1;32m    544\u001b[0m               \u001b[0mattrs\u001b[0m\u001b[0;34m=\u001b[0m\u001b[0;34m(\u001b[0m\u001b[0;34m\"executor_type\"\u001b[0m\u001b[0;34m,\u001b[0m \u001b[0mexecutor_type\u001b[0m\u001b[0;34m,\u001b[0m \u001b[0;34m\"config_proto\"\u001b[0m\u001b[0;34m,\u001b[0m \u001b[0mconfig\u001b[0m\u001b[0;34m)\u001b[0m\u001b[0;34m,\u001b[0m\u001b[0;34m\u001b[0m\u001b[0;34m\u001b[0m\u001b[0m\n\u001b[0;32m--> 545\u001b[0;31m               ctx=ctx)\n\u001b[0m\u001b[1;32m    546\u001b[0m         \u001b[0;32melse\u001b[0m\u001b[0;34m:\u001b[0m\u001b[0;34m\u001b[0m\u001b[0;34m\u001b[0m\u001b[0m\n\u001b[1;32m    547\u001b[0m           outputs = execute.execute_with_cancellation(\n",
            "\u001b[0;32m/tensorflow-2.1.0/python3.6/tensorflow_core/python/eager/execute.py\u001b[0m in \u001b[0;36mquick_execute\u001b[0;34m(op_name, num_outputs, inputs, attrs, ctx, name)\u001b[0m\n\u001b[1;32m     59\u001b[0m     tensors = pywrap_tensorflow.TFE_Py_Execute(ctx._handle, device_name,\n\u001b[1;32m     60\u001b[0m                                                \u001b[0mop_name\u001b[0m\u001b[0;34m,\u001b[0m \u001b[0minputs\u001b[0m\u001b[0;34m,\u001b[0m \u001b[0mattrs\u001b[0m\u001b[0;34m,\u001b[0m\u001b[0;34m\u001b[0m\u001b[0;34m\u001b[0m\u001b[0m\n\u001b[0;32m---> 61\u001b[0;31m                                                num_outputs)\n\u001b[0m\u001b[1;32m     62\u001b[0m   \u001b[0;32mexcept\u001b[0m \u001b[0mcore\u001b[0m\u001b[0;34m.\u001b[0m\u001b[0m_NotOkStatusException\u001b[0m \u001b[0;32mas\u001b[0m \u001b[0me\u001b[0m\u001b[0;34m:\u001b[0m\u001b[0;34m\u001b[0m\u001b[0;34m\u001b[0m\u001b[0m\n\u001b[1;32m     63\u001b[0m     \u001b[0;32mif\u001b[0m \u001b[0mname\u001b[0m \u001b[0;32mis\u001b[0m \u001b[0;32mnot\u001b[0m \u001b[0;32mNone\u001b[0m\u001b[0;34m:\u001b[0m\u001b[0;34m\u001b[0m\u001b[0;34m\u001b[0m\u001b[0m\n",
            "\u001b[0;31mKeyboardInterrupt\u001b[0m: "
          ]
        }
      ]
    },
    {
      "cell_type": "markdown",
      "metadata": {
        "id": "si-O006hAkJl",
        "colab_type": "text"
      },
      "source": [
        "Inference"
      ]
    },
    {
      "cell_type": "code",
      "metadata": {
        "colab_type": "code",
        "id": "EbQpyYs13jF_",
        "colab": {}
      },
      "source": [
        "def evaluate(sentence):\n",
        "  attention_plot = np.zeros((max_length_targ, max_length_inp))\n",
        "\n",
        "  punctuation = '[!\"#$%&\\'()*+,-./:;<=>?@[\\\\]^_`{|}~،؟«؛«]+'\n",
        "  en_pattern = \"[a-zA-Z0-9]+\"\n",
        "  seg_list = word_tokenize(sentence)\n",
        "  sentence = \" \".join(seg_list)\n",
        "  sentence = re.sub(r\"([!\\\"#$%&\\'()*+,-./:;<=>?@[\\\\]^_`{|}~،؟«؛«'])\", r\" \\1 \", sentence)\n",
        "  sentence = re.sub(punctuation, ' ', sentence)\n",
        "  sentence = '<start> ' + str(sentence) + ' <end>'\n",
        "  sentence = re.sub(r'[\" \"]+', \" \", sentence)\n",
        "\n",
        "  inputs = [inp_lang.word_index[i] for i in sentence.split(' ')]\n",
        "  inputs = tf.keras.preprocessing.sequence.pad_sequences([inputs],\n",
        "                                                         maxlen=max_length_inp,\n",
        "                                                         padding='post')\n",
        "  inputs = tf.convert_to_tensor(inputs)\n",
        "\n",
        "  result = ''\n",
        "\n",
        "  hidden = [tf.zeros((1, units))]\n",
        "  enc_out, enc_hidden = encoder(inputs, hidden)\n",
        "\n",
        "  dec_hidden = enc_hidden\n",
        "  dec_input = tf.expand_dims([targ_lang.word_index['<start>']], 0)\n",
        "\n",
        "  for t in range(max_length_targ):\n",
        "    predictions, dec_hidden, attention_weights = decoder(dec_input,\n",
        "                                                         dec_hidden,\n",
        "                                                         enc_out)\n",
        "\n",
        "    # storing the attention weights to plot later on\n",
        "    # attention_weights = tf.reshape(attention_weights, (-1, ))\n",
        "    # attention_plot[t] = attention_weights.numpy()\n",
        "\n",
        "    predicted_id = tf.argmax(predictions[0]).numpy()\n",
        "\n",
        "    result += targ_lang.index_word[predicted_id] + ' '\n",
        "\n",
        "    if targ_lang.index_word[predicted_id] == '<end>':\n",
        "      return result, sentence, attention_plot\n",
        "\n",
        "    # the predicted ID is fed back into the model\n",
        "    dec_input = tf.expand_dims([predicted_id], 0)\n",
        "\n",
        "  return result, sentence, attention_plot"
      ],
      "execution_count": 0,
      "outputs": []
    },
    {
      "cell_type": "code",
      "metadata": {
        "colab_type": "code",
        "id": "s5hQWlbN3jGF",
        "colab": {}
      },
      "source": [
        "# function for plotting the attention weights\n",
        "def plot_attention(attention, sentence, predicted_sentence):\n",
        "  fig = plt.figure(figsize=(10,10))\n",
        "  ax = fig.add_subplot(1, 1, 1)\n",
        "  ax.matshow(attention, cmap='viridis')\n",
        "\n",
        "  fontdict = {'fontsize': 14}\n",
        "\n",
        "  ax.set_xticklabels([''] + sentence, fontdict=fontdict, rotation=90)\n",
        "  ax.set_yticklabels([''] + predicted_sentence, fontdict=fontdict)\n",
        "\n",
        "  ax.xaxis.set_major_locator(ticker.MultipleLocator(1))\n",
        "  ax.yaxis.set_major_locator(ticker.MultipleLocator(1))\n",
        "\n",
        "  plt.show()"
      ],
      "execution_count": 0,
      "outputs": []
    },
    {
      "cell_type": "code",
      "metadata": {
        "colab_type": "code",
        "id": "sl9zUHzg3jGI",
        "colab": {}
      },
      "source": [
        "def translate(sentence):\n",
        "  result, sentence, attention_plot = evaluate(sentence)\n",
        "\n",
        "  print('Input: %s' % (sentence))\n",
        "  print('Predicted translation: {}'.format(result))\n",
        "\n",
        "  # attention_plot = attention_plot[:len(result.split(' ')), :len(sentence.split(' '))]\n",
        "  # plot_attention(attention_plot, sentence.split(' '), result.split(' '))"
      ],
      "execution_count": 0,
      "outputs": []
    },
    {
      "cell_type": "markdown",
      "metadata": {
        "colab_type": "text",
        "id": "n250XbnjOaqP"
      },
      "source": [
        "Restoring the model"
      ]
    },
    {
      "cell_type": "code",
      "metadata": {
        "colab_type": "code",
        "id": "UJpT9D5_OgP6",
        "outputId": "c4761d32-7e48-4ee1-8a0f-72c121e52deb",
        "colab": {
          "base_uri": "https://localhost:8080/",
          "height": 35
        }
      },
      "source": [
        "# restoring the latest checkpoint in checkpoint_dir\n",
        "checkpoint.restore(tf.train.latest_checkpoint(checkpoint_dir))"
      ],
      "execution_count": 0,
      "outputs": [
        {
          "output_type": "execute_result",
          "data": {
            "text/plain": [
              "<tensorflow.python.training.tracking.util.CheckpointLoadStatus at 0x7f64b56394e0>"
            ]
          },
          "metadata": {
            "tags": []
          },
          "execution_count": 62
        }
      ]
    },
    {
      "cell_type": "markdown",
      "metadata": {
        "id": "b_Alp5kLAyac",
        "colab_type": "text"
      },
      "source": [
        "Evaluate "
      ]
    },
    {
      "cell_type": "code",
      "metadata": {
        "colab_type": "code",
        "id": "WrAM0FDomq3E",
        "outputId": "20720d40-476b-44f7-8c5c-3b63efcc74db",
        "colab": {
          "base_uri": "https://localhost:8080/",
          "height": 52
        }
      },
      "source": [
        "translate('او یک دختر است')"
      ],
      "execution_count": 0,
      "outputs": [
        {
          "output_type": "stream",
          "text": [
            "Input: <start> او یک دختر است <end>\n",
            "Predicted translation: he s a daughter <end> \n"
          ],
          "name": "stdout"
        }
      ]
    },
    {
      "cell_type": "code",
      "metadata": {
        "id": "mpTV5_W6UQAL",
        "colab_type": "code",
        "outputId": "9a3e70b4-59e9-4da2-dfa7-99d404763a7c",
        "colab": {
          "base_uri": "https://localhost:8080/",
          "height": 52
        }
      },
      "source": [
        "translate('او بعد از شام تحصیل می کند')"
      ],
      "execution_count": 0,
      "outputs": [
        {
          "output_type": "stream",
          "text": [
            "Input: <start> او بعد از شام تحصیل می کند <end>\n",
            "Predicted translation: he studies after dinner <end> \n"
          ],
          "name": "stdout"
        }
      ]
    },
    {
      "cell_type": "code",
      "metadata": {
        "id": "M4kcm1q-UP8O",
        "colab_type": "code",
        "outputId": "0f481f8d-2c73-42c3-98d3-1895bd62dd75",
        "colab": {
          "base_uri": "https://localhost:8080/",
          "height": 52
        }
      },
      "source": [
        "translate('او در مدرسه تحصیل می کند')"
      ],
      "execution_count": 0,
      "outputs": [
        {
          "output_type": "stream",
          "text": [
            "Input: <start> او در مدرسه تحصیل می کند <end>\n",
            "Predicted translation: he is studying school school <end> \n"
          ],
          "name": "stdout"
        }
      ]
    },
    {
      "cell_type": "code",
      "metadata": {
        "id": "-jAzRgb0UlO_",
        "colab_type": "code",
        "outputId": "cffab572-665f-4f44-8607-35201d05ba60",
        "colab": {
          "base_uri": "https://localhost:8080/",
          "height": 52
        }
      },
      "source": [
        "translate('ارتش روزها جنگید')"
      ],
      "execution_count": 0,
      "outputs": [
        {
          "output_type": "stream",
          "text": [
            "Input: <start> ارتش روزها جنگید <end>\n",
            "Predicted translation: the enemy war <end> \n"
          ],
          "name": "stdout"
        }
      ]
    },
    {
      "cell_type": "code",
      "metadata": {
        "id": "Y-GOP8BdMmEe",
        "colab_type": "code",
        "outputId": "f77c0cd0-4299-4bef-fa22-dde305e44c12",
        "colab": {
          "base_uri": "https://localhost:8080/",
          "height": 52
        }
      },
      "source": [
        "translate('سربازان سالها می جنگیدند')"
      ],
      "execution_count": 0,
      "outputs": [
        {
          "output_type": "stream",
          "text": [
            "Input: <start> سربازان سالها می جنگیدند <end>\n",
            "Predicted translation: the children were almost <end> \n"
          ],
          "name": "stdout"
        }
      ]
    },
    {
      "cell_type": "code",
      "metadata": {
        "id": "U9--ySlVNH-v",
        "colab_type": "code",
        "outputId": "2ad06ba0-f2fa-459e-ea9b-6f17f2958019",
        "colab": {
          "base_uri": "https://localhost:8080/",
          "height": 52
        }
      },
      "source": [
        "translate('اجرا کن')"
      ],
      "execution_count": 0,
      "outputs": [
        {
          "output_type": "stream",
          "text": [
            "Input: <start> اجرا کن <end>\n",
            "Predicted translation: keep on <end> \n"
          ],
          "name": "stdout"
        }
      ]
    },
    {
      "cell_type": "code",
      "metadata": {
        "id": "RPOgmTbSOA9e",
        "colab_type": "code",
        "outputId": "9f9fcce6-d2cc-4531-ed88-518d316c767a",
        "colab": {
          "base_uri": "https://localhost:8080/",
          "height": 315
        }
      },
      "source": [
        "translate('منطقه می‌شود.')"
      ],
      "execution_count": 0,
      "outputs": [
        {
          "output_type": "error",
          "ename": "KeyError",
          "evalue": "ignored",
          "traceback": [
            "\u001b[0;31m---------------------------------------------------------------------------\u001b[0m",
            "\u001b[0;31mKeyError\u001b[0m                                  Traceback (most recent call last)",
            "\u001b[0;32m<ipython-input-65-e3be3e82a81f>\u001b[0m in \u001b[0;36m<module>\u001b[0;34m()\u001b[0m\n\u001b[0;32m----> 1\u001b[0;31m \u001b[0mtranslate\u001b[0m\u001b[0;34m(\u001b[0m\u001b[0;34m'منطقه می‌شود.'\u001b[0m\u001b[0;34m)\u001b[0m\u001b[0;34m\u001b[0m\u001b[0;34m\u001b[0m\u001b[0m\n\u001b[0m",
            "\u001b[0;32m<ipython-input-48-11e0d778f1e1>\u001b[0m in \u001b[0;36mtranslate\u001b[0;34m(sentence)\u001b[0m\n\u001b[1;32m      1\u001b[0m \u001b[0;32mdef\u001b[0m \u001b[0mtranslate\u001b[0m\u001b[0;34m(\u001b[0m\u001b[0msentence\u001b[0m\u001b[0;34m)\u001b[0m\u001b[0;34m:\u001b[0m\u001b[0;34m\u001b[0m\u001b[0;34m\u001b[0m\u001b[0m\n\u001b[0;32m----> 2\u001b[0;31m   \u001b[0mresult\u001b[0m\u001b[0;34m,\u001b[0m \u001b[0msentence\u001b[0m\u001b[0;34m,\u001b[0m \u001b[0mattention_plot\u001b[0m \u001b[0;34m=\u001b[0m \u001b[0mevaluate\u001b[0m\u001b[0;34m(\u001b[0m\u001b[0msentence\u001b[0m\u001b[0;34m)\u001b[0m\u001b[0;34m\u001b[0m\u001b[0;34m\u001b[0m\u001b[0m\n\u001b[0m\u001b[1;32m      3\u001b[0m \u001b[0;34m\u001b[0m\u001b[0m\n\u001b[1;32m      4\u001b[0m   \u001b[0mprint\u001b[0m\u001b[0;34m(\u001b[0m\u001b[0;34m'Input: %s'\u001b[0m \u001b[0;34m%\u001b[0m \u001b[0;34m(\u001b[0m\u001b[0msentence\u001b[0m\u001b[0;34m)\u001b[0m\u001b[0;34m)\u001b[0m\u001b[0;34m\u001b[0m\u001b[0;34m\u001b[0m\u001b[0m\n\u001b[1;32m      5\u001b[0m   \u001b[0mprint\u001b[0m\u001b[0;34m(\u001b[0m\u001b[0;34m'Predicted translation: {}'\u001b[0m\u001b[0;34m.\u001b[0m\u001b[0mformat\u001b[0m\u001b[0;34m(\u001b[0m\u001b[0mresult\u001b[0m\u001b[0;34m)\u001b[0m\u001b[0;34m)\u001b[0m\u001b[0;34m\u001b[0m\u001b[0;34m\u001b[0m\u001b[0m\n",
            "\u001b[0;32m<ipython-input-46-05ee5b959418>\u001b[0m in \u001b[0;36mevaluate\u001b[0;34m(sentence)\u001b[0m\n\u001b[1;32m     11\u001b[0m   \u001b[0msentence\u001b[0m \u001b[0;34m=\u001b[0m \u001b[0mre\u001b[0m\u001b[0;34m.\u001b[0m\u001b[0msub\u001b[0m\u001b[0;34m(\u001b[0m\u001b[0;34mr'[\" \"]+'\u001b[0m\u001b[0;34m,\u001b[0m \u001b[0;34m\" \"\u001b[0m\u001b[0;34m,\u001b[0m \u001b[0msentence\u001b[0m\u001b[0;34m)\u001b[0m\u001b[0;34m\u001b[0m\u001b[0;34m\u001b[0m\u001b[0m\n\u001b[1;32m     12\u001b[0m \u001b[0;34m\u001b[0m\u001b[0m\n\u001b[0;32m---> 13\u001b[0;31m   \u001b[0minputs\u001b[0m \u001b[0;34m=\u001b[0m \u001b[0;34m[\u001b[0m\u001b[0minp_lang\u001b[0m\u001b[0;34m.\u001b[0m\u001b[0mword_index\u001b[0m\u001b[0;34m[\u001b[0m\u001b[0mi\u001b[0m\u001b[0;34m]\u001b[0m \u001b[0;32mfor\u001b[0m \u001b[0mi\u001b[0m \u001b[0;32min\u001b[0m \u001b[0msentence\u001b[0m\u001b[0;34m.\u001b[0m\u001b[0msplit\u001b[0m\u001b[0;34m(\u001b[0m\u001b[0;34m' '\u001b[0m\u001b[0;34m)\u001b[0m\u001b[0;34m]\u001b[0m\u001b[0;34m\u001b[0m\u001b[0;34m\u001b[0m\u001b[0m\n\u001b[0m\u001b[1;32m     14\u001b[0m   inputs = tf.keras.preprocessing.sequence.pad_sequences([inputs],\n\u001b[1;32m     15\u001b[0m                                                          \u001b[0mmaxlen\u001b[0m\u001b[0;34m=\u001b[0m\u001b[0mmax_length_inp\u001b[0m\u001b[0;34m,\u001b[0m\u001b[0;34m\u001b[0m\u001b[0;34m\u001b[0m\u001b[0m\n",
            "\u001b[0;32m<ipython-input-46-05ee5b959418>\u001b[0m in \u001b[0;36m<listcomp>\u001b[0;34m(.0)\u001b[0m\n\u001b[1;32m     11\u001b[0m   \u001b[0msentence\u001b[0m \u001b[0;34m=\u001b[0m \u001b[0mre\u001b[0m\u001b[0;34m.\u001b[0m\u001b[0msub\u001b[0m\u001b[0;34m(\u001b[0m\u001b[0;34mr'[\" \"]+'\u001b[0m\u001b[0;34m,\u001b[0m \u001b[0;34m\" \"\u001b[0m\u001b[0;34m,\u001b[0m \u001b[0msentence\u001b[0m\u001b[0;34m)\u001b[0m\u001b[0;34m\u001b[0m\u001b[0;34m\u001b[0m\u001b[0m\n\u001b[1;32m     12\u001b[0m \u001b[0;34m\u001b[0m\u001b[0m\n\u001b[0;32m---> 13\u001b[0;31m   \u001b[0minputs\u001b[0m \u001b[0;34m=\u001b[0m \u001b[0;34m[\u001b[0m\u001b[0minp_lang\u001b[0m\u001b[0;34m.\u001b[0m\u001b[0mword_index\u001b[0m\u001b[0;34m[\u001b[0m\u001b[0mi\u001b[0m\u001b[0;34m]\u001b[0m \u001b[0;32mfor\u001b[0m \u001b[0mi\u001b[0m \u001b[0;32min\u001b[0m \u001b[0msentence\u001b[0m\u001b[0;34m.\u001b[0m\u001b[0msplit\u001b[0m\u001b[0;34m(\u001b[0m\u001b[0;34m' '\u001b[0m\u001b[0;34m)\u001b[0m\u001b[0;34m]\u001b[0m\u001b[0;34m\u001b[0m\u001b[0;34m\u001b[0m\u001b[0m\n\u001b[0m\u001b[1;32m     14\u001b[0m   inputs = tf.keras.preprocessing.sequence.pad_sequences([inputs],\n\u001b[1;32m     15\u001b[0m                                                          \u001b[0mmaxlen\u001b[0m\u001b[0;34m=\u001b[0m\u001b[0mmax_length_inp\u001b[0m\u001b[0;34m,\u001b[0m\u001b[0;34m\u001b[0m\u001b[0;34m\u001b[0m\u001b[0m\n",
            "\u001b[0;31mKeyError\u001b[0m: 'می\\u200cشود'"
          ]
        }
      ]
    },
    {
      "cell_type": "code",
      "metadata": {
        "id": "WUG24jxxwZQ9",
        "colab_type": "code",
        "colab": {}
      },
      "source": [
        ""
      ],
      "execution_count": 0,
      "outputs": []
    }
  ]
}